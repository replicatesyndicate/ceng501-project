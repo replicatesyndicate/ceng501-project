{
 "cells": [
  {
   "cell_type": "code",
   "execution_count": null,
   "metadata": {},
   "outputs": [],
   "source": [
    "# Requirements\n",
    "# !apt-get update\n",
    "# !apt-get install -y python-opengl ffmpeg\n",
    "# !apt-get install --upgrade cmake\n",
    "# !apt install swig xvfb\n",
    "# !pip install -U setuptools pyvirtualdisplay ez_setup gymnasium"
   ]
  },
  {
   "cell_type": "code",
   "execution_count": null,
   "metadata": {},
   "outputs": [],
   "source": [
    "# Core packages\n",
    "import math\n",
    "import random\n",
    "from collections import namedtuple, deque\n",
    "from itertools import count\n",
    "# External imports\n",
    "## Plotting tools\n",
    "import matplotlib\n",
    "import matplotlib.pyplot as plt\n",
    "## Learning modules\n",
    "import gymnasium as gym # RL\n",
    "import torch\n",
    "import torch.nn as nn\n",
    "import torch.optim as optim\n",
    "import torch.nn.functional as F\n",
    "\n",
    "# create a virtual display that will hold our video\n",
    "from pyvirtualdisplay import Display\n",
    "display = Display(visible=0, size=(1400, 900))\n",
    "display.start()\n",
    "\n",
    "import io\n",
    "import base64\n",
    "from IPython import display\n",
    "from IPython.display import HTML\n",
    "# this function will take in the location of a video file and\n",
    "# then use the virtual display to embed the video into the notebook\n",
    "def embed_video(video_file):\n",
    "    # open and read the raw data from the video\n",
    "    video_data = io.open(video_file, 'r+b').read()\n",
    "    # now we have to encode the data into base64 to work\n",
    "    # with the virtual display\n",
    "    encoded_data = base64.b64encode(video_data)\n",
    "    # now we use the display.display function to take some html\n",
    "    # and the encoded data and embed the html into the notebook!\n",
    "    display.display(HTML(data='''<video alt=\"test\" autoplay\n",
    "                loop controls style=\"height: 400px;\">\n",
    "                <source src=\"data:video/mp4;base64,{0}\" type=\"video/mp4\" />\n",
    "                </video>'''.format(encoded_data.decode('ascii'))))\n",
    "    \n",
    "from gymnasium.wrappers import RecordEpisodeStatistics, RecordVideo\n",
    "\n",
    "env = gym.make(\"CartPole-v1\", render_mode= \"rgb_array\")\n",
    "# save the file in this format: video/rl-video-episode-x.mp4\n",
    "env = RecordVideo(env, './video')\n",
    "\n",
    "# set up matplotlib\n",
    "is_ipython = 'inline' in matplotlib.get_backend()\n",
    "if is_ipython:\n",
    "    from IPython import display\n",
    "\n",
    "plt.ion()\n",
    "\n",
    "# if GPU is to be used\n",
    "device = torch.device(\n",
    "    \"cuda\" if torch.cuda.is_available() else\n",
    "    \"mps\" if torch.backends.mps.is_available() else\n",
    "    \"cpu\"\n",
    ")"
   ]
  },
  {
   "cell_type": "code",
   "execution_count": 2,
   "metadata": {},
   "outputs": [],
   "source": [
    "Transition = namedtuple('Transition',\n",
    "                        ('state', 'action', 'next_state', 'reward'))\n",
    "\n",
    "\n",
    "class ReplayMemory(object):\n",
    "\n",
    "    def __init__(self, capacity):\n",
    "        self.memory = deque([], maxlen=capacity)\n",
    "\n",
    "    def push(self, *args):\n",
    "        \"\"\"Save a transition\"\"\"\n",
    "        self.memory.append(Transition(*args))\n",
    "\n",
    "    def sample(self, batch_size):\n",
    "        return random.sample(self.memory, batch_size)\n",
    "\n",
    "    def __len__(self):\n",
    "        return len(self.memory)"
   ]
  },
  {
   "cell_type": "code",
   "execution_count": 3,
   "metadata": {},
   "outputs": [],
   "source": [
    "class DQN(nn.Module):\n",
    "\n",
    "    def __init__(self, n_observations, n_actions):\n",
    "        super(DQN, self).__init__()\n",
    "        self.layer1 = nn.Linear(n_observations, 128)\n",
    "        self.layer2 = nn.Linear(128, 128)\n",
    "        self.layer3 = nn.Linear(128, n_actions)\n",
    "\n",
    "    # Called with either one element to determine next action, or a batch\n",
    "    # during optimization. Returns tensor([[left0exp,right0exp]...]).\n",
    "    def forward(self, x):\n",
    "        x = F.relu(self.layer1(x))\n",
    "        x = F.relu(self.layer2(x))\n",
    "        return self.layer3(x)"
   ]
  },
  {
   "cell_type": "code",
   "execution_count": 4,
   "metadata": {},
   "outputs": [],
   "source": [
    "# BATCH_SIZE is the number of transitions sampled from the replay buffer\n",
    "# GAMMA is the discount factor as mentioned in the previous section\n",
    "# EPS_START is the starting value of epsilon\n",
    "# EPS_END is the final value of epsilon\n",
    "# EPS_DECAY controls the rate of exponential decay of epsilon, higher means a slower decay\n",
    "# TAU is the update rate of the target network\n",
    "# LR is the learning rate of the ``AdamW`` optimizer\n",
    "BATCH_SIZE = 128\n",
    "GAMMA = 0.99\n",
    "EPS_START = 0.9\n",
    "EPS_END = 0.05\n",
    "EPS_DECAY = 1000\n",
    "TAU = 0.005\n",
    "LR = 1e-4\n",
    "\n",
    "# Get number of actions from gym action space\n",
    "n_actions = env.action_space.n\n",
    "# Get the number of state observations\n",
    "state, info = env.reset()\n",
    "n_observations = len(state)\n",
    "\n",
    "policy_net = DQN(n_observations, n_actions).to(device)\n",
    "target_net = DQN(n_observations, n_actions).to(device)\n",
    "target_net.load_state_dict(policy_net.state_dict())\n",
    "\n",
    "optimizer = optim.AdamW(policy_net.parameters(), lr=LR, amsgrad=True)\n",
    "memory = ReplayMemory(10000)\n",
    "\n",
    "\n",
    "steps_done = 0\n",
    "\n",
    "\n",
    "def select_action(state):\n",
    "    global steps_done\n",
    "    sample = random.random()\n",
    "    eps_threshold = EPS_END + (EPS_START - EPS_END) * \\\n",
    "        math.exp(-1. * steps_done / EPS_DECAY)\n",
    "    steps_done += 1\n",
    "    if sample > eps_threshold:\n",
    "        with torch.no_grad():\n",
    "            # t.max(1) will return the largest column value of each row.\n",
    "            # second column on max result is index of where max element was\n",
    "            # found, so we pick action with the larger expected reward.\n",
    "            return policy_net(state).max(1).indices.view(1, 1)\n",
    "    else:\n",
    "        return torch.tensor([[env.action_space.sample()]], device=device, dtype=torch.long)\n",
    "\n",
    "\n",
    "episode_durations = []\n",
    "\n",
    "\n",
    "def plot_durations(show_result=False):\n",
    "    plt.figure(1)\n",
    "    durations_t = torch.tensor(episode_durations, dtype=torch.float)\n",
    "    if show_result:\n",
    "        plt.title('Result')\n",
    "    else:\n",
    "        plt.clf()\n",
    "        plt.title('Training...')\n",
    "    plt.xlabel('Episode')\n",
    "    plt.ylabel('Duration')\n",
    "    plt.plot(durations_t.numpy())\n",
    "    # Take 100 episode averages and plot them too\n",
    "    if len(durations_t) >= 100:\n",
    "        means = durations_t.unfold(0, 100, 1).mean(1).view(-1)\n",
    "        means = torch.cat((torch.zeros(99), means))\n",
    "        plt.plot(means.numpy())\n",
    "\n",
    "    plt.pause(0.001)  # pause a bit so that plots are updated\n",
    "    if is_ipython:\n",
    "        if not show_result:\n",
    "            display.display(plt.gcf())\n",
    "            display.clear_output(wait=True)\n",
    "        else:\n",
    "            display.display(plt.gcf())"
   ]
  },
  {
   "cell_type": "code",
   "execution_count": 5,
   "metadata": {},
   "outputs": [],
   "source": [
    "def optimize_model():\n",
    "    if len(memory) < BATCH_SIZE:\n",
    "        return\n",
    "    transitions = memory.sample(BATCH_SIZE)\n",
    "    # Transpose the batch (see https://stackoverflow.com/a/19343/3343043 for\n",
    "    # detailed explanation). This converts batch-array of Transitions\n",
    "    # to Transition of batch-arrays.\n",
    "    batch = Transition(*zip(*transitions))\n",
    "\n",
    "    # Compute a mask of non-final states and concatenate the batch elements\n",
    "    # (a final state would've been the one after which simulation ended)\n",
    "    non_final_mask = torch.tensor(tuple(map(lambda s: s is not None,\n",
    "                                          batch.next_state)), device=device, dtype=torch.bool)\n",
    "    non_final_next_states = torch.cat([s for s in batch.next_state\n",
    "                                                if s is not None])\n",
    "    state_batch = torch.cat(batch.state)\n",
    "    action_batch = torch.cat(batch.action)\n",
    "    reward_batch = torch.cat(batch.reward)\n",
    "\n",
    "    # Compute Q(s_t, a) - the model computes Q(s_t), then we select the\n",
    "    # columns of actions taken. These are the actions which would've been taken\n",
    "    # for each batch state according to policy_net\n",
    "    state_action_values = policy_net(state_batch).gather(1, action_batch)\n",
    "\n",
    "    # Compute V(s_{t+1}) for all next states.\n",
    "    # Expected values of actions for non_final_next_states are computed based\n",
    "    # on the \"older\" target_net; selecting their best reward with max(1).values\n",
    "    # This is merged based on the mask, such that we'll have either the expected\n",
    "    # state value or 0 in case the state was final.\n",
    "    next_state_values = torch.zeros(BATCH_SIZE, device=device)\n",
    "    with torch.no_grad():\n",
    "        next_state_values[non_final_mask] = target_net(non_final_next_states).max(1).values\n",
    "    # Compute the expected Q values\n",
    "    expected_state_action_values = (next_state_values * GAMMA) + reward_batch\n",
    "\n",
    "    # Compute Huber loss\n",
    "    criterion = nn.SmoothL1Loss()\n",
    "    loss = criterion(state_action_values, expected_state_action_values.unsqueeze(1))\n",
    "\n",
    "    # Optimize the model\n",
    "    optimizer.zero_grad()\n",
    "    loss.backward()\n",
    "    # In-place gradient clipping\n",
    "    torch.nn.utils.clip_grad_value_(policy_net.parameters(), 100)\n",
    "    optimizer.step()"
   ]
  },
  {
   "cell_type": "code",
   "execution_count": 6,
   "metadata": {},
   "outputs": [
    {
     "data": {
      "text/plain": [
       "device(type='cuda')"
      ]
     },
     "execution_count": 6,
     "metadata": {},
     "output_type": "execute_result"
    }
   ],
   "source": [
    "device"
   ]
  },
  {
   "cell_type": "code",
   "execution_count": 7,
   "metadata": {},
   "outputs": [
    {
     "name": "stdout",
     "output_type": "stream",
     "text": [
      "Complete\n"
     ]
    },
    {
     "data": {
      "image/png": "[encoded data removed]",
      "text/plain": [
       "<Figure size 640x480 with 1 Axes>"
      ]
     },
     "metadata": {},
     "output_type": "display_data"
    },
    {
     "data": {
      "text/plain": [
       "<Figure size 640x480 with 0 Axes>"
      ]
     },
     "metadata": {},
     "output_type": "display_data"
    },
    {
     "data": {
      "text/plain": [
       "<Figure size 640x480 with 0 Axes>"
      ]
     },
     "metadata": {},
     "output_type": "display_data"
    }
   ],
   "source": [
    "if torch.cuda.is_available() or torch.backends.mps.is_available():\n",
    "    print(\"Using CUDA or MPS\")\n",
    "    num_episodes = 600\n",
    "else:\n",
    "    num_episodes = 50\n",
    "\n",
    "for i_episode in range(num_episodes):\n",
    "    # Initialize the environment and get its state\n",
    "    state, info = env.reset()\n",
    "    state = torch.tensor(state, dtype=torch.float32, device=device).unsqueeze(0)\n",
    "    for t in count():\n",
    "        action = select_action(state)\n",
    "        observation, reward, terminated, truncated, _ = env.step(action.item())\n",
    "        reward = torch.tensor([reward], device=device)\n",
    "        done = terminated or truncated\n",
    "\n",
    "        if terminated:\n",
    "            next_state = None\n",
    "        else:\n",
    "            next_state = torch.tensor(observation, dtype=torch.float32, device=device).unsqueeze(0)\n",
    "\n",
    "        # Store the transition in memory\n",
    "        memory.push(state, action, next_state, reward)\n",
    "\n",
    "        # Move to the next state\n",
    "        state = next_state\n",
    "\n",
    "        # Perform one step of the optimization (on the policy network)\n",
    "        optimize_model()\n",
    "\n",
    "        # Soft update of the target network's weights\n",
    "        # θ′ ← τ θ + (1 −τ )θ′\n",
    "        target_net_state_dict = target_net.state_dict()\n",
    "        policy_net_state_dict = policy_net.state_dict()\n",
    "        for key in policy_net_state_dict:\n",
    "            target_net_state_dict[key] = policy_net_state_dict[key]*TAU + target_net_state_dict[key]*(1-TAU)\n",
    "        target_net.load_state_dict(target_net_state_dict)\n",
    "\n",
    "        if done:\n",
    "            episode_durations.append(t + 1)\n",
    "            plot_durations()\n",
    "            break\n",
    "\n",
    "print('Complete')\n",
    "plot_durations(show_result=True)\n",
    "plt.ioff()\n",
    "plt.show()"
   ]
  },
  {
   "cell_type": "code",
   "execution_count": 9,
   "metadata": {},
   "outputs": [
    {
     "data": {
      "text/html": [
       "<video alt=\"test\" autoplay\n",
       "                loop controls style=\"height: 400px;\">\n",
       "                <source src=\"data:video/mp4;base64,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\" type=\"video/mp4\" />\n",
       "                </video>"
      ],
      "text/plain": [
       "<IPython.core.display.HTML object>"
      ]
     },
     "metadata": {},
     "output_type": "display_data"
    }
   ],
   "source": [
    "env.close()\n",
    "embed_video(\"video/rl-video-episode-1.mp4\")"
   ]
  }
 ],
 "metadata": {
  "kernelspec": {
   "display_name": "Python 3",
   "language": "python",
   "name": "python3"
  },
  "language_info": {
   "codemirror_mode": {
    "name": "ipython",
    "version": 3
   },
   "file_extension": ".py",
   "mimetype": "text/x-python",
   "name": "python",
   "nbconvert_exporter": "python",
   "pygments_lexer": "ipython3",
   "version": "3.10.12"
  }
 },
 "nbformat": 4,
 "nbformat_minor": 2
}
